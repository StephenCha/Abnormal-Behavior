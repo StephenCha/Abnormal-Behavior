{
 "cells": [
  {
   "cell_type": "code",
   "execution_count": 3,
   "id": "dd358dd7-3bdf-49c9-b898-dca748675304",
   "metadata": {},
   "outputs": [],
   "source": [
    "a = list(['0', '10', '1', '4'])"
   ]
  },
  {
   "cell_type": "code",
   "execution_count": 5,
   "id": "dc9baa24-c835-4b6a-be66-261003a33c50",
   "metadata": {},
   "outputs": [],
   "source": [
    "a.sort()"
   ]
  },
  {
   "cell_type": "code",
   "execution_count": 6,
   "id": "ca0e829a-a1b5-4387-8508-f0f7533dfa52",
   "metadata": {},
   "outputs": [
    {
     "data": {
      "text/plain": [
       "['0', '1', '10', '4']"
      ]
     },
     "execution_count": 6,
     "metadata": {},
     "output_type": "execute_result"
    }
   ],
   "source": [
    "a"
   ]
  },
  {
   "cell_type": "code",
   "execution_count": 7,
   "id": "0a35fbac-7d11-47b4-9f5c-74a54c1d20d6",
   "metadata": {},
   "outputs": [],
   "source": [
    "b = list([0, 10, 1, 4])"
   ]
  },
  {
   "cell_type": "code",
   "execution_count": 8,
   "id": "69dd941e-5b08-44a1-a934-00eb06088e87",
   "metadata": {},
   "outputs": [],
   "source": [
    "b.sort()"
   ]
  },
  {
   "cell_type": "code",
   "execution_count": 9,
   "id": "fe065d55-2f2a-4756-a5d0-2b833d14006c",
   "metadata": {},
   "outputs": [
    {
     "data": {
      "text/plain": [
       "[0, 1, 4, 10]"
      ]
     },
     "execution_count": 9,
     "metadata": {},
     "output_type": "execute_result"
    }
   ],
   "source": [
    "b"
   ]
  },
  {
   "cell_type": "code",
   "execution_count": null,
   "id": "ecf30f5a-408b-4b17-86f3-a291abd16dd0",
   "metadata": {},
   "outputs": [],
   "source": []
  }
 ],
 "metadata": {
  "kernelspec": {
   "display_name": "Python 3",
   "language": "python",
   "name": "python3"
  },
  "language_info": {
   "codemirror_mode": {
    "name": "ipython",
    "version": 3
   },
   "file_extension": ".py",
   "mimetype": "text/x-python",
   "name": "python",
   "nbconvert_exporter": "python",
   "pygments_lexer": "ipython3",
   "version": "3.8.8"
  }
 },
 "nbformat": 4,
 "nbformat_minor": 5
}
